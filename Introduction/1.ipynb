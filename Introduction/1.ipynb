{
 "cells": [
  {
   "cell_type": "code",
   "execution_count": null,
   "metadata": {},
   "outputs": [],
   "source": [
    "#Here We will be discussing the system design from the starting to the complete end ."
   ]
  },
  {
   "cell_type": "markdown",
   "metadata": {},
   "source": [
    "# Introduction to the System Design and the Computer Architect.\n",
    "   ** Four Important points from the Cafe_App Outcome..\n",
    "     => Optimise the output and increase the throught output by using the same resource. [#Vertical_Scale]\n",
    "     => Preparing beforehand during the Peak_hours [#Preprocessing_and_Crown_Job]\n",
    "     => Hire more Resources [#Horizontal_Scaling]\n",
    "     => Keep the backups and avoid the single point of failure. [#Backups]\n",
    "     "
   ]
  }
 ],
 "metadata": {
  "kernelspec": {
   "display_name": "base",
   "language": "python",
   "name": "python3"
  },
  "language_info": {
   "codemirror_mode": {
    "name": "ipython",
    "version": 3
   },
   "file_extension": ".py",
   "mimetype": "text/x-python",
   "name": "python",
   "nbconvert_exporter": "python",
   "pygments_lexer": "ipython3",
   "version": "3.11.7"
  }
 },
 "nbformat": 4,
 "nbformat_minor": 2
}
